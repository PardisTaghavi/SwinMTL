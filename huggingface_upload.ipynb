{
 "cells": [
  {
   "cell_type": "markdown",
   "metadata": {},
   "source": [
    "This notebook illutrates how to push the custom pytorch model to huggingface. \n",
    "\n",
    "Reference: https://huggingface.co/docs/hub/en/models-uploading#upload-a-pytorch-model-using-huggingfacehub "
   ]
  },
  {
   "cell_type": "code",
   "execution_count": 37,
   "metadata": {},
   "outputs": [],
   "source": [
    "# Import the necessary modules\n",
    "import torch\n",
    "from models.modelMulti import GLPDepth"
   ]
  },
  {
   "cell_type": "markdown",
   "metadata": {},
   "source": [
    "### Loading the model to HuggingFace"
   ]
  },
  {
   "cell_type": "code",
   "execution_count": 38,
   "metadata": {},
   "outputs": [],
   "source": [
    "def load_model(ckpt, model, optimizer=None):\n",
    "    ckpt_dict = torch.load(ckpt, map_location='cpu')\n",
    "\n",
    "    state_dict = ckpt_dict['model']\n",
    "    weights = {}\n",
    "    for key, value in state_dict.items():\n",
    "        if key.startswith('module.'):\n",
    "            weights[key[len('module.'):]] = value\n",
    "        else:\n",
    "            weights[key] = value\n",
    "    #print(weights.keys(), 'loaded...')\n",
    "    model.load_state_dict(weights)\n",
    "\n",
    "\n",
    "    if optimizer is not None:\n",
    "        optimizer_state = ckpt_dict['optimizer']\n",
    "        optimizer.load_state_dict(optimizer_state)\n",
    "    #print(ckpt, 'loaded....')"
   ]
  },
  {
   "cell_type": "code",
   "execution_count": 39,
   "metadata": {},
   "outputs": [
    {
     "name": "stdout",
     "output_type": "stream",
     "text": [
      "norm8_log_bylayer: [(22, 22)] ==> [12]\n",
      "norm8_log_bylayer: [(22, 22)] ==> [12]\n",
      "norm8_log_bylayer: [(22, 22)] ==> [12]\n",
      "norm8_log_bylayer: [(22, 22)] ==> [12]\n",
      "norm8_log_bylayer: [(22, 22)] ==> [12]\n",
      "norm8_log_bylayer: [(22, 22)] ==> [12]\n",
      "norm8_log_bylayer: [(22, 22)] ==> [12]\n",
      "norm8_log_bylayer: [(22, 22)] ==> [12]\n",
      "norm8_log_bylayer: [(22, 22)] ==> [12]\n",
      "norm8_log_bylayer: [(22, 22)] ==> [12]\n",
      "norm8_log_bylayer: [(22, 22)] ==> [12]\n",
      "norm8_log_bylayer: [(22, 22)] ==> [12]\n",
      "norm8_log_bylayer: [(22, 22)] ==> [12]\n",
      "norm8_log_bylayer: [(22, 22)] ==> [12]\n",
      "norm8_log_bylayer: [(22, 22)] ==> [12]\n",
      "norm8_log_bylayer: [(22, 22)] ==> [12]\n",
      "norm8_log_bylayer: [(22, 22)] ==> [12]\n",
      "norm8_log_bylayer: [(22, 22)] ==> [12]\n",
      "norm8_log_bylayer: [(22, 22)] ==> [12]\n",
      "norm8_log_bylayer: [(22, 22)] ==> [12]\n",
      "norm8_log_bylayer: [(22, 22)] ==> [12]\n",
      "norm8_log_bylayer: [(22, 22)] ==> [12]\n",
      "norm8_log_bylayer: [(11, 11)] ==> [6]\n",
      "norm8_log_bylayer: [(11, 11)] ==> [6]\n"
     ]
    },
    {
     "name": "stderr",
     "output_type": "stream",
     "text": [
      "2024-05-31 06:04:26,937 - mmpose - WARNING - The model and loaded state dict do not match exactly\n",
      "\n",
      "size mismatch for layers.0.blocks.0.attn.relative_coords_table: copying a param with shape torch.Size([1, 23, 23, 2]) from checkpoint, the shape in current model is torch.Size([1, 43, 43, 2]).\n",
      "size mismatch for layers.0.blocks.0.attn.relative_position_index: copying a param with shape torch.Size([144, 144]) from checkpoint, the shape in current model is torch.Size([484, 484]).\n",
      "size mismatch for layers.0.blocks.1.attn.relative_coords_table: copying a param with shape torch.Size([1, 23, 23, 2]) from checkpoint, the shape in current model is torch.Size([1, 43, 43, 2]).\n",
      "size mismatch for layers.0.blocks.1.attn.relative_position_index: copying a param with shape torch.Size([144, 144]) from checkpoint, the shape in current model is torch.Size([484, 484]).\n",
      "size mismatch for layers.1.blocks.0.attn.relative_coords_table: copying a param with shape torch.Size([1, 23, 23, 2]) from checkpoint, the shape in current model is torch.Size([1, 43, 43, 2]).\n",
      "size mismatch for layers.1.blocks.0.attn.relative_position_index: copying a param with shape torch.Size([144, 144]) from checkpoint, the shape in current model is torch.Size([484, 484]).\n",
      "size mismatch for layers.1.blocks.1.attn.relative_coords_table: copying a param with shape torch.Size([1, 23, 23, 2]) from checkpoint, the shape in current model is torch.Size([1, 43, 43, 2]).\n",
      "size mismatch for layers.1.blocks.1.attn.relative_position_index: copying a param with shape torch.Size([144, 144]) from checkpoint, the shape in current model is torch.Size([484, 484]).\n",
      "size mismatch for layers.2.blocks.0.attn.relative_coords_table: copying a param with shape torch.Size([1, 23, 23, 2]) from checkpoint, the shape in current model is torch.Size([1, 43, 43, 2]).\n",
      "size mismatch for layers.2.blocks.0.attn.relative_position_index: copying a param with shape torch.Size([144, 144]) from checkpoint, the shape in current model is torch.Size([484, 484]).\n",
      "size mismatch for layers.2.blocks.1.attn.relative_coords_table: copying a param with shape torch.Size([1, 23, 23, 2]) from checkpoint, the shape in current model is torch.Size([1, 43, 43, 2]).\n",
      "size mismatch for layers.2.blocks.1.attn.relative_position_index: copying a param with shape torch.Size([144, 144]) from checkpoint, the shape in current model is torch.Size([484, 484]).\n",
      "size mismatch for layers.2.blocks.2.attn.relative_coords_table: copying a param with shape torch.Size([1, 23, 23, 2]) from checkpoint, the shape in current model is torch.Size([1, 43, 43, 2]).\n",
      "size mismatch for layers.2.blocks.2.attn.relative_position_index: copying a param with shape torch.Size([144, 144]) from checkpoint, the shape in current model is torch.Size([484, 484]).\n",
      "size mismatch for layers.2.blocks.3.attn.relative_coords_table: copying a param with shape torch.Size([1, 23, 23, 2]) from checkpoint, the shape in current model is torch.Size([1, 43, 43, 2]).\n",
      "size mismatch for layers.2.blocks.3.attn.relative_position_index: copying a param with shape torch.Size([144, 144]) from checkpoint, the shape in current model is torch.Size([484, 484]).\n",
      "size mismatch for layers.2.blocks.4.attn.relative_coords_table: copying a param with shape torch.Size([1, 23, 23, 2]) from checkpoint, the shape in current model is torch.Size([1, 43, 43, 2]).\n",
      "size mismatch for layers.2.blocks.4.attn.relative_position_index: copying a param with shape torch.Size([144, 144]) from checkpoint, the shape in current model is torch.Size([484, 484]).\n",
      "size mismatch for layers.2.blocks.5.attn.relative_coords_table: copying a param with shape torch.Size([1, 23, 23, 2]) from checkpoint, the shape in current model is torch.Size([1, 43, 43, 2]).\n",
      "size mismatch for layers.2.blocks.5.attn.relative_position_index: copying a param with shape torch.Size([144, 144]) from checkpoint, the shape in current model is torch.Size([484, 484]).\n",
      "size mismatch for layers.2.blocks.6.attn.relative_coords_table: copying a param with shape torch.Size([1, 23, 23, 2]) from checkpoint, the shape in current model is torch.Size([1, 43, 43, 2]).\n",
      "size mismatch for layers.2.blocks.6.attn.relative_position_index: copying a param with shape torch.Size([144, 144]) from checkpoint, the shape in current model is torch.Size([484, 484]).\n",
      "size mismatch for layers.2.blocks.7.attn.relative_coords_table: copying a param with shape torch.Size([1, 23, 23, 2]) from checkpoint, the shape in current model is torch.Size([1, 43, 43, 2]).\n",
      "size mismatch for layers.2.blocks.7.attn.relative_position_index: copying a param with shape torch.Size([144, 144]) from checkpoint, the shape in current model is torch.Size([484, 484]).\n",
      "size mismatch for layers.2.blocks.8.attn.relative_coords_table: copying a param with shape torch.Size([1, 23, 23, 2]) from checkpoint, the shape in current model is torch.Size([1, 43, 43, 2]).\n",
      "size mismatch for layers.2.blocks.8.attn.relative_position_index: copying a param with shape torch.Size([144, 144]) from checkpoint, the shape in current model is torch.Size([484, 484]).\n",
      "size mismatch for layers.2.blocks.9.attn.relative_coords_table: copying a param with shape torch.Size([1, 23, 23, 2]) from checkpoint, the shape in current model is torch.Size([1, 43, 43, 2]).\n",
      "size mismatch for layers.2.blocks.9.attn.relative_position_index: copying a param with shape torch.Size([144, 144]) from checkpoint, the shape in current model is torch.Size([484, 484]).\n",
      "size mismatch for layers.2.blocks.10.attn.relative_coords_table: copying a param with shape torch.Size([1, 23, 23, 2]) from checkpoint, the shape in current model is torch.Size([1, 43, 43, 2]).\n",
      "size mismatch for layers.2.blocks.10.attn.relative_position_index: copying a param with shape torch.Size([144, 144]) from checkpoint, the shape in current model is torch.Size([484, 484]).\n",
      "size mismatch for layers.2.blocks.11.attn.relative_coords_table: copying a param with shape torch.Size([1, 23, 23, 2]) from checkpoint, the shape in current model is torch.Size([1, 43, 43, 2]).\n",
      "size mismatch for layers.2.blocks.11.attn.relative_position_index: copying a param with shape torch.Size([144, 144]) from checkpoint, the shape in current model is torch.Size([484, 484]).\n",
      "size mismatch for layers.2.blocks.12.attn.relative_coords_table: copying a param with shape torch.Size([1, 23, 23, 2]) from checkpoint, the shape in current model is torch.Size([1, 43, 43, 2]).\n",
      "size mismatch for layers.2.blocks.12.attn.relative_position_index: copying a param with shape torch.Size([144, 144]) from checkpoint, the shape in current model is torch.Size([484, 484]).\n",
      "size mismatch for layers.2.blocks.13.attn.relative_coords_table: copying a param with shape torch.Size([1, 23, 23, 2]) from checkpoint, the shape in current model is torch.Size([1, 43, 43, 2]).\n",
      "size mismatch for layers.2.blocks.13.attn.relative_position_index: copying a param with shape torch.Size([144, 144]) from checkpoint, the shape in current model is torch.Size([484, 484]).\n",
      "size mismatch for layers.2.blocks.14.attn.relative_coords_table: copying a param with shape torch.Size([1, 23, 23, 2]) from checkpoint, the shape in current model is torch.Size([1, 43, 43, 2]).\n",
      "size mismatch for layers.2.blocks.14.attn.relative_position_index: copying a param with shape torch.Size([144, 144]) from checkpoint, the shape in current model is torch.Size([484, 484]).\n",
      "size mismatch for layers.2.blocks.15.attn.relative_coords_table: copying a param with shape torch.Size([1, 23, 23, 2]) from checkpoint, the shape in current model is torch.Size([1, 43, 43, 2]).\n",
      "size mismatch for layers.2.blocks.15.attn.relative_position_index: copying a param with shape torch.Size([144, 144]) from checkpoint, the shape in current model is torch.Size([484, 484]).\n",
      "size mismatch for layers.2.blocks.16.attn.relative_coords_table: copying a param with shape torch.Size([1, 23, 23, 2]) from checkpoint, the shape in current model is torch.Size([1, 43, 43, 2]).\n",
      "size mismatch for layers.2.blocks.16.attn.relative_position_index: copying a param with shape torch.Size([144, 144]) from checkpoint, the shape in current model is torch.Size([484, 484]).\n",
      "size mismatch for layers.2.blocks.17.attn.relative_coords_table: copying a param with shape torch.Size([1, 23, 23, 2]) from checkpoint, the shape in current model is torch.Size([1, 43, 43, 2]).\n",
      "size mismatch for layers.2.blocks.17.attn.relative_position_index: copying a param with shape torch.Size([144, 144]) from checkpoint, the shape in current model is torch.Size([484, 484]).\n",
      "size mismatch for layers.3.blocks.0.attn.relative_coords_table: copying a param with shape torch.Size([1, 11, 11, 2]) from checkpoint, the shape in current model is torch.Size([1, 21, 21, 2]).\n",
      "size mismatch for layers.3.blocks.0.attn.relative_position_index: copying a param with shape torch.Size([36, 36]) from checkpoint, the shape in current model is torch.Size([121, 121]).\n",
      "size mismatch for layers.3.blocks.1.attn.relative_coords_table: copying a param with shape torch.Size([1, 11, 11, 2]) from checkpoint, the shape in current model is torch.Size([1, 21, 21, 2]).\n",
      "size mismatch for layers.3.blocks.1.attn.relative_position_index: copying a param with shape torch.Size([36, 36]) from checkpoint, the shape in current model is torch.Size([121, 121]).\n",
      "unexpected key in source state_dict: mask_token, norm.weight, norm.bias, layers.0.blocks.1.attn_mask, layers.1.blocks.1.attn_mask\n",
      "\n",
      "missing keys in source state_dict: norm3.weight, norm3.bias\n",
      "\n"
     ]
    }
   ],
   "source": [
    "# create the model using the load_model function\n",
    "args = lambda: None\n",
    "args.max_depth = 80\n",
    "args.backbone = \"swin_base_v2\"\n",
    "args.depths = [2, 2, 18, 2]\n",
    "args.num_filters = [32, 32, 32]\n",
    "args.deconv_kernels = [2, 2, 2]\n",
    "args.window_size = [22, 22, 22, 11]\n",
    "args.pretrain_window_size = [12, 12, 12, 6]\n",
    "args.use_shift = [True, True, False, False]\n",
    "args.shift_size = 16\n",
    "args.save_visualization = False\n",
    "args.flip_test = False\n",
    "args.shift_window_test = False\n",
    "args.num_classes = 20\n",
    "args.drop_path_rate = 0.3\n",
    "args.pretrained = \"/Users/parimi/Downloads/swin_v2_base_simmim.pth\"\n",
    "args.save_model = False\n",
    "args.crop_h = 224\n",
    "args.crop_w = 224\n",
    "args.layer_decay = 0.9\n",
    "args.use_checkpoint = True\n",
    "args.num_deconv = 3\n",
    "\n",
    "ckpt_dir = \"/Users/parimi/Downloads/cityscapes480.ckpt\"\n",
    "\n",
    "model = GLPDepth(args=args)\n",
    "load_model(ckpt_dir, model)"
   ]
  },
  {
   "cell_type": "code",
   "execution_count": 40,
   "metadata": {},
   "outputs": [
    {
     "data": {
      "text/plain": [
       "CommitInfo(commit_url='https://huggingface.co/SwinMTL/swinMTL_model/commit/2bdd155bbb6fcc7cdefe13754a084a9bd1230dfc', commit_message='Push model using huggingface_hub.', commit_description='', oid='2bdd155bbb6fcc7cdefe13754a084a9bd1230dfc', pr_url=None, pr_revision=None, pr_num=None)"
      ]
     },
     "execution_count": 40,
     "metadata": {},
     "output_type": "execute_result"
    }
   ],
   "source": [
    "# save the model locally\n",
    "model.save_pretrained(\"swinMTL_model\")\n",
    "\n",
    "# push to the hub\n",
    "model.push_to_hub(\"SwinMTL/swinMTL_model\")\n"
   ]
  },
  {
   "cell_type": "markdown",
   "metadata": {},
   "source": [
    "### Retrieving the model from HuggingFace"
   ]
  },
  {
   "cell_type": "code",
   "execution_count": 41,
   "metadata": {},
   "outputs": [
    {
     "name": "stdout",
     "output_type": "stream",
     "text": [
      "norm8_log_bylayer: [(22, 22)] ==> [12]\n",
      "norm8_log_bylayer: [(22, 22)] ==> [12]\n",
      "norm8_log_bylayer: [(22, 22)] ==> [12]\n",
      "norm8_log_bylayer: [(22, 22)] ==> [12]\n",
      "norm8_log_bylayer: [(22, 22)] ==> [12]\n",
      "norm8_log_bylayer: [(22, 22)] ==> [12]\n",
      "norm8_log_bylayer: [(22, 22)] ==> [12]\n",
      "norm8_log_bylayer: [(22, 22)] ==> [12]\n",
      "norm8_log_bylayer: [(22, 22)] ==> [12]\n",
      "norm8_log_bylayer: [(22, 22)] ==> [12]\n",
      "norm8_log_bylayer: [(22, 22)] ==> [12]\n",
      "norm8_log_bylayer: [(22, 22)] ==> [12]\n",
      "norm8_log_bylayer: [(22, 22)] ==> [12]\n",
      "norm8_log_bylayer: [(22, 22)] ==> [12]\n",
      "norm8_log_bylayer: [(22, 22)] ==> [12]\n",
      "norm8_log_bylayer: [(22, 22)] ==> [12]\n",
      "norm8_log_bylayer: [(22, 22)] ==> [12]\n",
      "norm8_log_bylayer: [(22, 22)] ==> [12]\n",
      "norm8_log_bylayer: [(22, 22)] ==> [12]\n",
      "norm8_log_bylayer: [(22, 22)] ==> [12]\n",
      "norm8_log_bylayer: [(22, 22)] ==> [12]\n",
      "norm8_log_bylayer: [(22, 22)] ==> [12]\n",
      "norm8_log_bylayer: [(11, 11)] ==> [6]\n",
      "norm8_log_bylayer: [(11, 11)] ==> [6]\n"
     ]
    },
    {
     "name": "stderr",
     "output_type": "stream",
     "text": [
      "2024-05-31 06:04:53,208 - mmpose - WARNING - The model and loaded state dict do not match exactly\n",
      "\n",
      "size mismatch for layers.0.blocks.0.attn.relative_coords_table: copying a param with shape torch.Size([1, 23, 23, 2]) from checkpoint, the shape in current model is torch.Size([1, 43, 43, 2]).\n",
      "size mismatch for layers.0.blocks.0.attn.relative_position_index: copying a param with shape torch.Size([144, 144]) from checkpoint, the shape in current model is torch.Size([484, 484]).\n",
      "size mismatch for layers.0.blocks.1.attn.relative_coords_table: copying a param with shape torch.Size([1, 23, 23, 2]) from checkpoint, the shape in current model is torch.Size([1, 43, 43, 2]).\n",
      "size mismatch for layers.0.blocks.1.attn.relative_position_index: copying a param with shape torch.Size([144, 144]) from checkpoint, the shape in current model is torch.Size([484, 484]).\n",
      "size mismatch for layers.1.blocks.0.attn.relative_coords_table: copying a param with shape torch.Size([1, 23, 23, 2]) from checkpoint, the shape in current model is torch.Size([1, 43, 43, 2]).\n",
      "size mismatch for layers.1.blocks.0.attn.relative_position_index: copying a param with shape torch.Size([144, 144]) from checkpoint, the shape in current model is torch.Size([484, 484]).\n",
      "size mismatch for layers.1.blocks.1.attn.relative_coords_table: copying a param with shape torch.Size([1, 23, 23, 2]) from checkpoint, the shape in current model is torch.Size([1, 43, 43, 2]).\n",
      "size mismatch for layers.1.blocks.1.attn.relative_position_index: copying a param with shape torch.Size([144, 144]) from checkpoint, the shape in current model is torch.Size([484, 484]).\n",
      "size mismatch for layers.2.blocks.0.attn.relative_coords_table: copying a param with shape torch.Size([1, 23, 23, 2]) from checkpoint, the shape in current model is torch.Size([1, 43, 43, 2]).\n",
      "size mismatch for layers.2.blocks.0.attn.relative_position_index: copying a param with shape torch.Size([144, 144]) from checkpoint, the shape in current model is torch.Size([484, 484]).\n",
      "size mismatch for layers.2.blocks.1.attn.relative_coords_table: copying a param with shape torch.Size([1, 23, 23, 2]) from checkpoint, the shape in current model is torch.Size([1, 43, 43, 2]).\n",
      "size mismatch for layers.2.blocks.1.attn.relative_position_index: copying a param with shape torch.Size([144, 144]) from checkpoint, the shape in current model is torch.Size([484, 484]).\n",
      "size mismatch for layers.2.blocks.2.attn.relative_coords_table: copying a param with shape torch.Size([1, 23, 23, 2]) from checkpoint, the shape in current model is torch.Size([1, 43, 43, 2]).\n",
      "size mismatch for layers.2.blocks.2.attn.relative_position_index: copying a param with shape torch.Size([144, 144]) from checkpoint, the shape in current model is torch.Size([484, 484]).\n",
      "size mismatch for layers.2.blocks.3.attn.relative_coords_table: copying a param with shape torch.Size([1, 23, 23, 2]) from checkpoint, the shape in current model is torch.Size([1, 43, 43, 2]).\n",
      "size mismatch for layers.2.blocks.3.attn.relative_position_index: copying a param with shape torch.Size([144, 144]) from checkpoint, the shape in current model is torch.Size([484, 484]).\n",
      "size mismatch for layers.2.blocks.4.attn.relative_coords_table: copying a param with shape torch.Size([1, 23, 23, 2]) from checkpoint, the shape in current model is torch.Size([1, 43, 43, 2]).\n",
      "size mismatch for layers.2.blocks.4.attn.relative_position_index: copying a param with shape torch.Size([144, 144]) from checkpoint, the shape in current model is torch.Size([484, 484]).\n",
      "size mismatch for layers.2.blocks.5.attn.relative_coords_table: copying a param with shape torch.Size([1, 23, 23, 2]) from checkpoint, the shape in current model is torch.Size([1, 43, 43, 2]).\n",
      "size mismatch for layers.2.blocks.5.attn.relative_position_index: copying a param with shape torch.Size([144, 144]) from checkpoint, the shape in current model is torch.Size([484, 484]).\n",
      "size mismatch for layers.2.blocks.6.attn.relative_coords_table: copying a param with shape torch.Size([1, 23, 23, 2]) from checkpoint, the shape in current model is torch.Size([1, 43, 43, 2]).\n",
      "size mismatch for layers.2.blocks.6.attn.relative_position_index: copying a param with shape torch.Size([144, 144]) from checkpoint, the shape in current model is torch.Size([484, 484]).\n",
      "size mismatch for layers.2.blocks.7.attn.relative_coords_table: copying a param with shape torch.Size([1, 23, 23, 2]) from checkpoint, the shape in current model is torch.Size([1, 43, 43, 2]).\n",
      "size mismatch for layers.2.blocks.7.attn.relative_position_index: copying a param with shape torch.Size([144, 144]) from checkpoint, the shape in current model is torch.Size([484, 484]).\n",
      "size mismatch for layers.2.blocks.8.attn.relative_coords_table: copying a param with shape torch.Size([1, 23, 23, 2]) from checkpoint, the shape in current model is torch.Size([1, 43, 43, 2]).\n",
      "size mismatch for layers.2.blocks.8.attn.relative_position_index: copying a param with shape torch.Size([144, 144]) from checkpoint, the shape in current model is torch.Size([484, 484]).\n",
      "size mismatch for layers.2.blocks.9.attn.relative_coords_table: copying a param with shape torch.Size([1, 23, 23, 2]) from checkpoint, the shape in current model is torch.Size([1, 43, 43, 2]).\n",
      "size mismatch for layers.2.blocks.9.attn.relative_position_index: copying a param with shape torch.Size([144, 144]) from checkpoint, the shape in current model is torch.Size([484, 484]).\n",
      "size mismatch for layers.2.blocks.10.attn.relative_coords_table: copying a param with shape torch.Size([1, 23, 23, 2]) from checkpoint, the shape in current model is torch.Size([1, 43, 43, 2]).\n",
      "size mismatch for layers.2.blocks.10.attn.relative_position_index: copying a param with shape torch.Size([144, 144]) from checkpoint, the shape in current model is torch.Size([484, 484]).\n",
      "size mismatch for layers.2.blocks.11.attn.relative_coords_table: copying a param with shape torch.Size([1, 23, 23, 2]) from checkpoint, the shape in current model is torch.Size([1, 43, 43, 2]).\n",
      "size mismatch for layers.2.blocks.11.attn.relative_position_index: copying a param with shape torch.Size([144, 144]) from checkpoint, the shape in current model is torch.Size([484, 484]).\n",
      "size mismatch for layers.2.blocks.12.attn.relative_coords_table: copying a param with shape torch.Size([1, 23, 23, 2]) from checkpoint, the shape in current model is torch.Size([1, 43, 43, 2]).\n",
      "size mismatch for layers.2.blocks.12.attn.relative_position_index: copying a param with shape torch.Size([144, 144]) from checkpoint, the shape in current model is torch.Size([484, 484]).\n",
      "size mismatch for layers.2.blocks.13.attn.relative_coords_table: copying a param with shape torch.Size([1, 23, 23, 2]) from checkpoint, the shape in current model is torch.Size([1, 43, 43, 2]).\n",
      "size mismatch for layers.2.blocks.13.attn.relative_position_index: copying a param with shape torch.Size([144, 144]) from checkpoint, the shape in current model is torch.Size([484, 484]).\n",
      "size mismatch for layers.2.blocks.14.attn.relative_coords_table: copying a param with shape torch.Size([1, 23, 23, 2]) from checkpoint, the shape in current model is torch.Size([1, 43, 43, 2]).\n",
      "size mismatch for layers.2.blocks.14.attn.relative_position_index: copying a param with shape torch.Size([144, 144]) from checkpoint, the shape in current model is torch.Size([484, 484]).\n",
      "size mismatch for layers.2.blocks.15.attn.relative_coords_table: copying a param with shape torch.Size([1, 23, 23, 2]) from checkpoint, the shape in current model is torch.Size([1, 43, 43, 2]).\n",
      "size mismatch for layers.2.blocks.15.attn.relative_position_index: copying a param with shape torch.Size([144, 144]) from checkpoint, the shape in current model is torch.Size([484, 484]).\n",
      "size mismatch for layers.2.blocks.16.attn.relative_coords_table: copying a param with shape torch.Size([1, 23, 23, 2]) from checkpoint, the shape in current model is torch.Size([1, 43, 43, 2]).\n",
      "size mismatch for layers.2.blocks.16.attn.relative_position_index: copying a param with shape torch.Size([144, 144]) from checkpoint, the shape in current model is torch.Size([484, 484]).\n",
      "size mismatch for layers.2.blocks.17.attn.relative_coords_table: copying a param with shape torch.Size([1, 23, 23, 2]) from checkpoint, the shape in current model is torch.Size([1, 43, 43, 2]).\n",
      "size mismatch for layers.2.blocks.17.attn.relative_position_index: copying a param with shape torch.Size([144, 144]) from checkpoint, the shape in current model is torch.Size([484, 484]).\n",
      "size mismatch for layers.3.blocks.0.attn.relative_coords_table: copying a param with shape torch.Size([1, 11, 11, 2]) from checkpoint, the shape in current model is torch.Size([1, 21, 21, 2]).\n",
      "size mismatch for layers.3.blocks.0.attn.relative_position_index: copying a param with shape torch.Size([36, 36]) from checkpoint, the shape in current model is torch.Size([121, 121]).\n",
      "size mismatch for layers.3.blocks.1.attn.relative_coords_table: copying a param with shape torch.Size([1, 11, 11, 2]) from checkpoint, the shape in current model is torch.Size([1, 21, 21, 2]).\n",
      "size mismatch for layers.3.blocks.1.attn.relative_position_index: copying a param with shape torch.Size([36, 36]) from checkpoint, the shape in current model is torch.Size([121, 121]).\n",
      "unexpected key in source state_dict: mask_token, norm.weight, norm.bias, layers.0.blocks.1.attn_mask, layers.1.blocks.1.attn_mask\n",
      "\n",
      "missing keys in source state_dict: norm3.weight, norm3.bias\n",
      "\n"
     ]
    }
   ],
   "source": [
    "model = GLPDepth.from_pretrained(\"SwinMTL/swinMTL_model\", args=args)"
   ]
  }
 ],
 "metadata": {
  "kernelspec": {
   "display_name": "test-env",
   "language": "python",
   "name": "python3"
  },
  "language_info": {
   "codemirror_mode": {
    "name": "ipython",
    "version": 3
   },
   "file_extension": ".py",
   "mimetype": "text/x-python",
   "name": "python",
   "nbconvert_exporter": "python",
   "pygments_lexer": "ipython3",
   "version": "3.11.5"
  }
 },
 "nbformat": 4,
 "nbformat_minor": 2
}
